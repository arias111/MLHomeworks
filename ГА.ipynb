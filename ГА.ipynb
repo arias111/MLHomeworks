{
  "nbformat": 4,
  "nbformat_minor": 0,
  "metadata": {
    "colab": {
      "provenance": []
    },
    "kernelspec": {
      "name": "python3",
      "display_name": "Python 3"
    },
    "language_info": {
      "name": "python"
    }
  },
  "cells": [
    {
      "cell_type": "code",
      "execution_count": 1,
      "metadata": {
        "colab": {
          "base_uri": "https://localhost:8080/"
        },
        "id": "xc7-IWbosAV7",
        "outputId": "3c6b3969-5960-4a42-f126-a8f179f3beed"
      },
      "outputs": [
        {
          "output_type": "stream",
          "name": "stdout",
          "text": [
            "[ 2  2 -3 -2 -3 -3]\n"
          ]
        }
      ],
      "source": [
        "import random\n",
        "import numpy as np\n",
        "\n",
        "def crossover(parents, offspring_size):\n",
        "    offspring = np.empty(offspring_size)\n",
        "    crossover_point = np.uint8(offspring_size[1] / 2)\n",
        "\n",
        "    for k in range(offspring_size[0]):\n",
        "        parent1_idx = k % len(parents)\n",
        "        parent2_idx = (k + 1) % len(parents)\n",
        "\n",
        "        for i in range(crossover_point):\n",
        "            offspring[k][i] = parents[parent1_idx][i]\n",
        "\n",
        "        for i in range(crossover_point, offspring_size[1]):\n",
        "            offspring[k][i] = parents[parent2_idx][i]\n",
        "    return offspring\n",
        "\n",
        "\n",
        "def fitness_assessment(population, y):\n",
        "    p = []\n",
        "    for i in range(len(population)):\n",
        "        s = 0\n",
        "        for j in range(len(diofantov_expr)):\n",
        "            s += population[i][j] * diofantov_expr[j]\n",
        "        r = np.abs(y - s) + 1\n",
        "        p.append(1 / r)\n",
        "    return p\n",
        "\n",
        "\n",
        "def mutation_test(pop_after_cross, mutation_rate):\n",
        "    population_nextgen = []\n",
        "    for i in range(0, len(pop_after_cross)):\n",
        "        chromosome = pop_after_cross[i]\n",
        "        for j in range(len(chromosome)):\n",
        "            if random.random() < mutation_rate:\n",
        "                random_value = np.random.randint(-1.0, 1.0, 1)\n",
        "                chromosome[j] = chromosome[j] + random_value\n",
        "        population_nextgen.append(chromosome)\n",
        "    return population_nextgen\n",
        "\n",
        "\n",
        "def parents_selection(population, parents_num, p):\n",
        "    choose_parents = []\n",
        "    for i in range(parents_num):\n",
        "        max_ind = [j for j in range(len(p)) if p[j] == max(p)][0]\n",
        "        choose_parents.append(population[max_ind])\n",
        "        p.remove(max(p))\n",
        "    return choose_parents\n",
        "\n",
        "\n",
        "if __name__ == '__main__':\n",
        "    diofantov_expr = [4, -2, 3, 5, -11, -4]\n",
        "    y = 30\n",
        "\n",
        "    diofantov_weights = len(diofantov_expr)\n",
        "\n",
        "    count_chromosome = 12\n",
        "\n",
        "    population_size = (count_chromosome, diofantov_weights)\n",
        "\n",
        "    new_population = np.random.randint(low=-len(diofantov_expr), high=len(diofantov_expr), size=population_size)\n",
        "\n",
        "    count_iteration = 1000\n",
        "    for iteration in range(count_iteration):\n",
        "        fitness = fitness_assessment(new_population, y)\n",
        "        new_parents = parents_selection(new_population, 6, fitness)\n",
        "        new_offspring_cross = crossover(parents=new_parents,\n",
        "                                        offspring_size=(population_size[0] - len(new_parents), diofantov_weights))\n",
        "        \n",
        "        new_offspring_mut = mutation_test(new_offspring_cross, 0.1)\n",
        "        for i in range(len(new_parents)):\n",
        "            new_population[i] = new_parents[i]\n",
        "\n",
        "        current_count = 0\n",
        "\n",
        "        for i in range(len(new_parents), len(new_parents) + len(new_offspring_mut)):\n",
        "            new_population[i] = new_offspring_mut[current_count]\n",
        "            current_count += 1\n",
        "\n",
        "    fitness = fitness_assessment(new_population, y)\n",
        "\n",
        "    max_fitness = max(fitness)\n",
        "    need_index = fitness.index(max_fitness)\n",
        "\n",
        "    print(new_population[need_index])"
      ]
    }
  ]
}