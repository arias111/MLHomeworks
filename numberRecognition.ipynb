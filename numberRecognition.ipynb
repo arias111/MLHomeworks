{
  "nbformat": 4,
  "nbformat_minor": 0,
  "metadata": {
    "colab": {
      "provenance": []
    },
    "kernelspec": {
      "name": "python3",
      "display_name": "Python 3"
    },
    "language_info": {
      "name": "python"
    }
  },
  "cells": [
    {
      "cell_type": "code",
      "source": [
        "import numpy as np\n",
        "import keras\n",
        "import tensorflow as tf\n",
        "from tensorflow.keras import layers\n",
        "import matplotlib.pyplot as plt\n",
        "import random"
      ],
      "metadata": {
        "id": "y_6YiOIKI0hu"
      },
      "execution_count": 9,
      "outputs": []
    },
    {
      "cell_type": "code",
      "source": [
        "num_classes = 10\n",
        "input_shape = (28, 28, 1)\n",
        "(x_train, y_train), (x_test, y_test) = tf.keras.datasets.mnist.load_data()\n",
        "x_train = x_train.astype(\"float32\") / 255\n",
        "x_test = x_test.astype(\"float32\") / 255\n",
        "x_train = np.expand_dims(x_train, -1)\n",
        "x_test = np.expand_dims(x_test, -1)\n",
        "y_train = tf.keras.utils.to_categorical(y_train, num_classes)\n",
        "y_test = tf.keras.utils.to_categorical(y_test, num_classes)"
      ],
      "metadata": {
        "id": "4Zk5Ge5fI4yU"
      },
      "execution_count": 10,
      "outputs": []
    },
    {
      "cell_type": "code",
      "source": [
        "model = keras.Sequential(\n",
        "    [\n",
        "        keras.Input(shape=input_shape),\n",
        "        layers.Conv2D(32, kernel_size=(3, 3), activation=\"relu\"),\n",
        "        layers.MaxPooling2D(pool_size=(2, 2)),\n",
        "        layers.Conv2D(64, kernel_size=(3, 3), activation=\"relu\"),\n",
        "        layers.MaxPooling2D(pool_size=(2, 2)),\n",
        "        layers.Flatten(),\n",
        "        layers.Dropout(0.5),\n",
        "        layers.Dense(num_classes, activation=\"softmax\"),\n",
        "    ]\n",
        ")"
      ],
      "metadata": {
        "id": "4QERAs-sI7e5"
      },
      "execution_count": 11,
      "outputs": []
    },
    {
      "cell_type": "code",
      "source": [
        "batch_size = 128\n",
        "epochs = 15\n",
        "\n",
        "model.compile(loss=\"categorical_crossentropy\", optimizer=\"adam\", metrics=[\"accuracy\"])\n",
        "\n",
        "model.fit(x_train, y_train, batch_size=batch_size, epochs=epochs, validation_split=0.1)\n",
        "score = model.evaluate(x_test, y_test, verbose=0)"
      ],
      "metadata": {
        "colab": {
          "base_uri": "https://localhost:8080/"
        },
        "id": "YP90eJrZI_T1",
        "outputId": "f166f3e9-8942-4b59-b583-05b344783a9d"
      },
      "execution_count": 12,
      "outputs": [
        {
          "output_type": "stream",
          "name": "stdout",
          "text": [
            "Epoch 1/15\n",
            "422/422 [==============================] - 45s 107ms/step - loss: 0.3554 - accuracy: 0.8921 - val_loss: 0.0856 - val_accuracy: 0.9783\n",
            "Epoch 2/15\n",
            "422/422 [==============================] - 46s 109ms/step - loss: 0.1114 - accuracy: 0.9665 - val_loss: 0.0560 - val_accuracy: 0.9843\n",
            "Epoch 3/15\n",
            "422/422 [==============================] - 46s 108ms/step - loss: 0.0824 - accuracy: 0.9744 - val_loss: 0.0530 - val_accuracy: 0.9842\n",
            "Epoch 4/15\n",
            "422/422 [==============================] - 44s 105ms/step - loss: 0.0707 - accuracy: 0.9777 - val_loss: 0.0393 - val_accuracy: 0.9890\n",
            "Epoch 5/15\n",
            "422/422 [==============================] - 44s 105ms/step - loss: 0.0617 - accuracy: 0.9808 - val_loss: 0.0375 - val_accuracy: 0.9897\n",
            "Epoch 6/15\n",
            "422/422 [==============================] - 44s 105ms/step - loss: 0.0546 - accuracy: 0.9830 - val_loss: 0.0353 - val_accuracy: 0.9895\n",
            "Epoch 7/15\n",
            "422/422 [==============================] - 45s 107ms/step - loss: 0.0509 - accuracy: 0.9834 - val_loss: 0.0326 - val_accuracy: 0.9915\n",
            "Epoch 8/15\n",
            "422/422 [==============================] - 44s 104ms/step - loss: 0.0476 - accuracy: 0.9854 - val_loss: 0.0317 - val_accuracy: 0.9913\n",
            "Epoch 9/15\n",
            "422/422 [==============================] - 44s 105ms/step - loss: 0.0422 - accuracy: 0.9865 - val_loss: 0.0306 - val_accuracy: 0.9918\n",
            "Epoch 10/15\n",
            "422/422 [==============================] - 45s 107ms/step - loss: 0.0403 - accuracy: 0.9872 - val_loss: 0.0299 - val_accuracy: 0.9930\n",
            "Epoch 11/15\n",
            "422/422 [==============================] - 44s 104ms/step - loss: 0.0384 - accuracy: 0.9873 - val_loss: 0.0297 - val_accuracy: 0.9925\n",
            "Epoch 12/15\n",
            "422/422 [==============================] - 44s 104ms/step - loss: 0.0360 - accuracy: 0.9883 - val_loss: 0.0299 - val_accuracy: 0.9922\n",
            "Epoch 13/15\n",
            "422/422 [==============================] - 45s 107ms/step - loss: 0.0361 - accuracy: 0.9888 - val_loss: 0.0286 - val_accuracy: 0.9928\n",
            "Epoch 14/15\n",
            "422/422 [==============================] - 44s 104ms/step - loss: 0.0322 - accuracy: 0.9894 - val_loss: 0.0312 - val_accuracy: 0.9910\n",
            "Epoch 15/15\n",
            "422/422 [==============================] - 44s 104ms/step - loss: 0.0319 - accuracy: 0.9899 - val_loss: 0.0280 - val_accuracy: 0.9920\n"
          ]
        }
      ]
    },
    {
      "cell_type": "code",
      "source": [
        "def recognize_number(input_image):\n",
        "    digit_images = np.split(input_image, input_image.shape[1] / 28, axis=1)\n",
        "    digit_images = np.array(digit_images)\n",
        "    prediction_result = model.predict(digit_images)\n",
        "    ans = \"\"\n",
        "    for case in np.split(prediction_result, len(digit_images)):\n",
        "        predicted = np.argmax(case)\n",
        "        ans += str(predicted)\n",
        "\n",
        "    print(\"Предсказанное число:\", ans)\n"
      ],
      "metadata": {
        "id": "27hGQNAtJBMP"
      },
      "execution_count": 13,
      "outputs": []
    },
    {
      "cell_type": "code",
      "execution_count": 14,
      "metadata": {
        "colab": {
          "base_uri": "https://localhost:8080/",
          "height": 135
        },
        "id": "wd_8LtjDGbAN",
        "outputId": "a0cf4b24-0d2d-4691-de27-d9ac554c1354"
      },
      "outputs": [
        {
          "output_type": "display_data",
          "data": {
            "text/plain": [
              "<Figure size 432x288 with 1 Axes>"
            ],
            "image/png": "[encoded data removed]"
          },
          "metadata": {
            "needs_background": "light"
          }
        },
        {
          "output_type": "stream",
          "name": "stdout",
          "text": [
            "1/1 [==============================] - 0s 56ms/step\n",
            "Предсказанное число: 397846757\n"
          ]
        }
      ],
      "source": [
        "def generate_input_image(possible_digits=x_test,\n",
        "                         input_length=1):\n",
        "    selected_digit_images = [possible_digits[random.randint(0, len(possible_digits))] for _ in range(input_length)]\n",
        "    concatenated = np.concatenate(selected_digit_images, axis=1).squeeze()\n",
        "    plt.title('сгенерированное число')\n",
        "    plt.imshow(concatenated, cmap='gray')\n",
        "    plt.show()\n",
        "    return concatenated\n",
        "\n",
        "input_image = generate_input_image(input_length=9)\n",
        "\n",
        "recognize_number(input_image)"
      ]
    }
  ]
}