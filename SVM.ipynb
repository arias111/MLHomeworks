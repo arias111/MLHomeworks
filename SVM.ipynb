{
  "nbformat": 4,
  "nbformat_minor": 0,
  "metadata": {
    "colab": {
      "provenance": []
    },
    "kernelspec": {
      "name": "python3",
      "display_name": "Python 3"
    },
    "language_info": {
      "name": "python"
    }
  },
  "cells": [
    {
      "cell_type": "code",
      "execution_count": 1,
      "metadata": {
        "colab": {
          "base_uri": "https://localhost:8080/",
          "height": 373
        },
        "id": "chwnjO3pJcga",
        "outputId": "176d9632-9891-408a-f289-02c8e9b1aa70"
      },
      "outputs": [
        {
          "output_type": "error",
          "ename": "ModuleNotFoundError",
          "evalue": "ignored",
          "traceback": [
            "\u001b[0;31m---------------------------------------------------------------------------\u001b[0m",
            "\u001b[0;31mModuleNotFoundError\u001b[0m                       Traceback (most recent call last)",
            "\u001b[0;32m<ipython-input-1-534949ee7a8f>\u001b[0m in \u001b[0;36m<module>\u001b[0;34m\u001b[0m\n\u001b[1;32m      1\u001b[0m \u001b[0;32mimport\u001b[0m \u001b[0mnumpy\u001b[0m \u001b[0;32mas\u001b[0m \u001b[0mnp\u001b[0m\u001b[0;34m\u001b[0m\u001b[0;34m\u001b[0m\u001b[0m\n\u001b[0;32m----> 2\u001b[0;31m \u001b[0;32mimport\u001b[0m \u001b[0mpygame\u001b[0m\u001b[0;34m\u001b[0m\u001b[0;34m\u001b[0m\u001b[0m\n\u001b[0m\u001b[1;32m      3\u001b[0m \u001b[0;32mfrom\u001b[0m \u001b[0msklearn\u001b[0m\u001b[0;34m.\u001b[0m\u001b[0msvm\u001b[0m \u001b[0;32mimport\u001b[0m \u001b[0mSVC\u001b[0m\u001b[0;34m\u001b[0m\u001b[0;34m\u001b[0m\u001b[0m\n\u001b[1;32m      4\u001b[0m \u001b[0;34m\u001b[0m\u001b[0m\n\u001b[1;32m      5\u001b[0m \u001b[0;31m# Создание гиперплоскости - граница принятия решения, определяющая, как классифицируются новые наблюдения.\u001b[0m\u001b[0;34m\u001b[0m\u001b[0;34m\u001b[0m\u001b[0;34m\u001b[0m\u001b[0m\n",
            "\u001b[0;31mModuleNotFoundError\u001b[0m: No module named 'pygame'",
            "",
            "\u001b[0;31m---------------------------------------------------------------------------\u001b[0;32m\nNOTE: If your import is failing due to a missing package, you can\nmanually install dependencies using either !pip or !apt.\n\nTo view examples of installing some common dependencies, click the\n\"Open Examples\" button below.\n\u001b[0;31m---------------------------------------------------------------------------\u001b[0m\n"
          ],
          "errorDetails": {
            "actions": [
              {
                "action": "open_url",
                "actionText": "Open Examples",
                "url": "/notebooks/snippets/importing_libraries.ipynb"
              }
            ]
          }
        }
      ],
      "source": [
        "import numpy as np\n",
        "import pygame\n",
        "from sklearn.svm import SVC\n",
        "\n",
        "def get_line_points(svc):\n",
        "    w = svc.coef_[0]\n",
        "    a = -w[0] / w[1] \n",
        "    xx = np.array([0, width])\n",
        "    yy = a * xx - (svc.intercept_[0]) / w[1]\n",
        "    return np.array(list(zip(xx, yy)))\n",
        "\n",
        "\n",
        "def draw_circle(points, event, current_class, screen):\n",
        "    color = GREEN\n",
        "    if current_class == 1:\n",
        "        color = RED\n",
        "    pygame.draw.circle(screen, color, event.pos, radius)\n",
        "    points.append([[event.pos[0], event.pos[1]], current_class, None])\n",
        "\n",
        "\n",
        "def draw_pygame():\n",
        "    line_printed = False\n",
        "    coordinates = []\n",
        "    screen = pygame.display.set_mode((width, height))\n",
        "    screen.fill(WHITE)\n",
        "    play = True\n",
        "    while play:\n",
        "        for event in pygame.event.get():\n",
        "            if event.type == pygame.QUIT:\n",
        "                play = False\n",
        "            if event.type == pygame.MOUSEBUTTONDOWN:\n",
        "                if event.button == 1 and line_printed is False:\n",
        "                    draw_circle(coordinates, event, 0, screen)\n",
        "                if event.button == 3 and line_printed is False:\n",
        "                    draw_circle(coordinates, event, 1, screen)\n",
        "                if line_printed is True:\n",
        "                    pos = list(event.pos)\n",
        "                    cls = svc.predict([pos])[0]\n",
        "                    points.append([pos, cls, None])\n",
        "            if event.type == pygame.KEYDOWN and event.key == pygame.K_SPACE and line_printed is False:\n",
        "                line_printed = True\n",
        "                x_coords = np.array(list(map(lambda p: p[0], coordinates)))\n",
        "                y_coords = np.array(list(map(lambda p: p[1], coordinates)))\n",
        "                svc = SVC(kernel='linear')\n",
        "                svc.fit(x_coords, y_coords)\n",
        "                line_points = get_line_points(svc)\n",
        "                p1, p2 = line_points[0], line_points[-1]\n",
        "                pygame.draw.line(screen, 'black', p1, p2, 2)\n",
        "\n",
        "        count_sim = 0\n",
        "        count_diff = 0\n",
        "        for point in points:\n",
        "            is_above = lambda point, p1, p2: np.cross(point - p1, p2 - p1) < 0\n",
        "            if is_above(point[0], p1, p2):\n",
        "                point[2] = 0\n",
        "            else:\n",
        "                point[2] = 1\n",
        "            if point[1] == point[2]:\n",
        "                count_sim = count_sim + 1\n",
        "            else:\n",
        "                count_diff = count_diff + 1\n",
        "            if count_sim > count_diff:\n",
        "                pygame.draw.circle(screen, colors[point[2]], point[0], radius)\n",
        "            else:\n",
        "                pygame.draw.circle(screen, colors[point[1]], point[0], radius)\n",
        "\n",
        "        pygame.display.update()\n",
        "\n",
        "\n",
        "if __name__ == '__main__':\n",
        "    width, height = 600, 400\n",
        "    RED = (255, 0, 0)\n",
        "    GREEN = (0, 255, 0)\n",
        "    WHITE = (255, 255, 255)\n",
        "    radius = 5\n",
        "    points = []\n",
        "    colors = {0: GREEN, 1: RED}\n",
        "    draw_pygame()"
      ]
    }
  ]
}